{
 "cells": [
  {
   "cell_type": "code",
   "execution_count": 1,
   "metadata": {},
   "outputs": [],
   "source": [
    "import numpy as np\n",
    "import pandas as pd\n",
    "import matplotlib.pyplot as plt\n",
    "import seaborn as sns\n"
   ]
  },
  {
   "cell_type": "markdown",
   "metadata": {},
   "source": [
    "### Dataset\n",
    "California Housing dataset\n",
    "\n",
    "**Features**\n",
    "- MedInc median income in block group\n",
    "- HouseAge median house age in block group\n",
    "- AveRooms average number of rooms per household\n",
    "- AveBedrms average number of bedrooms per household\n",
    "- Population block group population\n",
    "- AveOccup average number of household members\n",
    "- Latitude block group latitude\n",
    "- Longitude block group longitude\n",
    "\n",
    "**Target**\n",
    "- median house value for California districts, expressed in hundreds of thousands of dollars ($100,000).\n"
   ]
  },
  {
   "cell_type": "code",
   "execution_count": 39,
   "metadata": {},
   "outputs": [],
   "source": [
    "from sklearn.datasets import fetch_california_housing\n",
    "dataset = fetch_california_housing()\n",
    "X = dataset.data\n",
    "Y = dataset.target\n"
   ]
  },
  {
   "cell_type": "code",
   "execution_count": 32,
   "metadata": {},
   "outputs": [
    {
     "name": "stdout",
     "output_type": "stream",
     "text": [
      "(20640, 8)\n"
     ]
    },
    {
     "data": {
      "text/html": [
       "<div>\n",
       "<style scoped>\n",
       "    .dataframe tbody tr th:only-of-type {\n",
       "        vertical-align: middle;\n",
       "    }\n",
       "\n",
       "    .dataframe tbody tr th {\n",
       "        vertical-align: top;\n",
       "    }\n",
       "\n",
       "    .dataframe thead th {\n",
       "        text-align: right;\n",
       "    }\n",
       "</style>\n",
       "<table border=\"1\" class=\"dataframe\">\n",
       "  <thead>\n",
       "    <tr style=\"text-align: right;\">\n",
       "      <th></th>\n",
       "      <th>MedInc</th>\n",
       "      <th>HouseAge</th>\n",
       "      <th>AveRooms</th>\n",
       "      <th>AveBedrms</th>\n",
       "      <th>Population</th>\n",
       "      <th>AveOccup</th>\n",
       "      <th>Latitude</th>\n",
       "      <th>Longitude</th>\n",
       "    </tr>\n",
       "  </thead>\n",
       "  <tbody>\n",
       "    <tr>\n",
       "      <th>0</th>\n",
       "      <td>8.3252</td>\n",
       "      <td>41.0</td>\n",
       "      <td>6.984127</td>\n",
       "      <td>1.023810</td>\n",
       "      <td>322.0</td>\n",
       "      <td>2.555556</td>\n",
       "      <td>37.88</td>\n",
       "      <td>-122.23</td>\n",
       "    </tr>\n",
       "    <tr>\n",
       "      <th>1</th>\n",
       "      <td>8.3014</td>\n",
       "      <td>21.0</td>\n",
       "      <td>6.238137</td>\n",
       "      <td>0.971880</td>\n",
       "      <td>2401.0</td>\n",
       "      <td>2.109842</td>\n",
       "      <td>37.86</td>\n",
       "      <td>-122.22</td>\n",
       "    </tr>\n",
       "    <tr>\n",
       "      <th>2</th>\n",
       "      <td>7.2574</td>\n",
       "      <td>52.0</td>\n",
       "      <td>8.288136</td>\n",
       "      <td>1.073446</td>\n",
       "      <td>496.0</td>\n",
       "      <td>2.802260</td>\n",
       "      <td>37.85</td>\n",
       "      <td>-122.24</td>\n",
       "    </tr>\n",
       "    <tr>\n",
       "      <th>3</th>\n",
       "      <td>5.6431</td>\n",
       "      <td>52.0</td>\n",
       "      <td>5.817352</td>\n",
       "      <td>1.073059</td>\n",
       "      <td>558.0</td>\n",
       "      <td>2.547945</td>\n",
       "      <td>37.85</td>\n",
       "      <td>-122.25</td>\n",
       "    </tr>\n",
       "    <tr>\n",
       "      <th>4</th>\n",
       "      <td>3.8462</td>\n",
       "      <td>52.0</td>\n",
       "      <td>6.281853</td>\n",
       "      <td>1.081081</td>\n",
       "      <td>565.0</td>\n",
       "      <td>2.181467</td>\n",
       "      <td>37.85</td>\n",
       "      <td>-122.25</td>\n",
       "    </tr>\n",
       "  </tbody>\n",
       "</table>\n",
       "</div>"
      ],
      "text/plain": [
       "   MedInc  HouseAge  AveRooms  AveBedrms  Population  AveOccup  Latitude  \\\n",
       "0  8.3252      41.0  6.984127   1.023810       322.0  2.555556     37.88   \n",
       "1  8.3014      21.0  6.238137   0.971880      2401.0  2.109842     37.86   \n",
       "2  7.2574      52.0  8.288136   1.073446       496.0  2.802260     37.85   \n",
       "3  5.6431      52.0  5.817352   1.073059       558.0  2.547945     37.85   \n",
       "4  3.8462      52.0  6.281853   1.081081       565.0  2.181467     37.85   \n",
       "\n",
       "   Longitude  \n",
       "0    -122.23  \n",
       "1    -122.22  \n",
       "2    -122.24  \n",
       "3    -122.25  \n",
       "4    -122.25  "
      ]
     },
     "execution_count": 32,
     "metadata": {},
     "output_type": "execute_result"
    }
   ],
   "source": [
    "print (X.shape)\n",
    "X = pd.DataFrame(X, columns=dataset.feature_names)\n",
    "X.head()\n",
    "\n"
   ]
  },
  {
   "cell_type": "code",
   "execution_count": 43,
   "metadata": {},
   "outputs": [
    {
     "data": {
      "text/plain": [
       "array([4.526, 3.585, 3.521, ..., 0.923, 0.847, 0.894])"
      ]
     },
     "execution_count": 43,
     "metadata": {},
     "output_type": "execute_result"
    }
   ],
   "source": [
    "Y"
   ]
  },
  {
   "cell_type": "markdown",
   "metadata": {},
   "source": [
    "### Transform data\n",
    "Standardize the data so that the feature has a 0 mean and a standard deviation of 1. The new features will be the number of standard deviations away from the mean (z-score)\n",
    "\n",
    "$x'=\\frac{x-\\bar{x}}{\\sigma}$"
   ]
  },
  {
   "cell_type": "code",
   "execution_count": 44,
   "metadata": {},
   "outputs": [
    {
     "name": "stdout",
     "output_type": "stream",
     "text": [
      "[[ 2.34476576  0.98214266  0.62855945 ... -0.04959654  1.05254828\n",
      "  -1.32783522]\n",
      " [ 2.33223796 -0.60701891  0.32704136 ... -0.09251223  1.04318455\n",
      "  -1.32284391]\n",
      " [ 1.7826994   1.85618152  1.15562047 ... -0.02584253  1.03850269\n",
      "  -1.33282653]\n",
      " ...\n",
      " [-1.14259331 -0.92485123 -0.09031802 ... -0.0717345   1.77823747\n",
      "  -0.8237132 ]\n",
      " [-1.05458292 -0.84539315 -0.04021111 ... -0.09122515  1.77823747\n",
      "  -0.87362627]\n",
      " [-0.78012947 -1.00430931 -0.07044252 ... -0.04368215  1.75014627\n",
      "  -0.83369581]]\n"
     ]
    }
   ],
   "source": [
    "from sklearn.preprocessing import StandardScaler\n",
    "\n",
    "scaler = StandardScaler()\n",
    "Xs = scaler.fit_transform(X)\n",
    "print(Xs)"
   ]
  },
  {
   "cell_type": "markdown",
   "metadata": {},
   "source": [
    "### Gradient descent for multi linear regression"
   ]
  },
  {
   "cell_type": "code",
   "execution_count": 126,
   "metadata": {},
   "outputs": [],
   "source": [
    "\n",
    "# Multiple linear regression model\n",
    "def predict(weights, bias, x, m):\n",
    "\n",
    "    y = []\n",
    "    for i in range(m):\n",
    "        y.append(weights@x[i] + bias)\n",
    "\n",
    "    return np.array(y)\n",
    "\n",
    "    \n",
    "# d/dw\n",
    "def derivative_cost_weights(x, y, y_pred, m):\n",
    "\n",
    "    sum = 0\n",
    "    for i in range(m):\n",
    "        sum += (y_pred[i] - y[i]) * x[i]\n",
    "\n",
    "    return (1/m) * sum\n",
    "    \n",
    "# d/db\n",
    "def derivative_cost_bias(y, y_pred, m):\n",
    "\n",
    "    sum = 0\n",
    "    for i in range(len(y)):\n",
    "        sum += (y_pred[i] - y[i])\n",
    "\n",
    "    return (1/m) * sum\n",
    "   \n",
    "\n",
    "# Cost function\n",
    "def cost(y, y_pred, m):\n",
    "\n",
    "    cost = 0\n",
    "    for i in range(m):\n",
    "        cost += (y_pred[i] - y[i])**2\n",
    "\n",
    "    return (1/m) * cost\n",
    "\n",
    "\n",
    "        \n",
    "# gradient function\n",
    "def gradient_descent(x, y, epochs = 1000):\n",
    "    weights = np.random.randn(x.shape[1])    # w\n",
    "    learning_rate = 0.001                    # alpha\n",
    "    bias = 0                                 # b\n",
    "    m = len(y)\n",
    "\n",
    "    # Make a nice graph\n",
    "    linear_cost = []\n",
    "\n",
    "    for i in range(epochs):\n",
    "        if i%100 == 0:\n",
    "            print(\"Epoch : \", i)\n",
    "            \n",
    "        y_pred = predict(weights, bias, x, m)\n",
    "        weights_temp = weights - learning_rate * derivative_cost_weights(x, y, y_pred, m) \n",
    "        bias_temp = bias - learning_rate * derivative_cost_bias(y, y_pred, m)\n",
    "\n",
    "        weights = weights_temp\n",
    "        bias = bias_temp\n",
    "\n",
    "        linear_cost.append(cost(y, y_pred, m))\n",
    "        \n",
    "    plt.plot(np.arange(1, epochs), linear_cost[1:])\n",
    "    plt.xlabel(\"epochs\")\n",
    "    plt.ylabel(\"cost\")\n",
    "    \n",
    "    return weights,bias"
   ]
  },
  {
   "cell_type": "code",
   "execution_count": 159,
   "metadata": {},
   "outputs": [
    {
     "name": "stdout",
     "output_type": "stream",
     "text": [
      "Epoch :  0\n",
      "Epoch :  100\n",
      "Epoch :  200\n",
      "Epoch :  300\n",
      "Epoch :  400\n",
      "Epoch :  500\n",
      "Epoch :  600\n",
      "Epoch :  700\n",
      "Epoch :  800\n",
      "Epoch :  900\n",
      "Epoch :  1000\n",
      "Epoch :  1100\n",
      "Epoch :  1200\n",
      "Epoch :  1300\n",
      "Epoch :  1400\n",
      "Epoch :  1500\n",
      "Epoch :  1600\n",
      "Epoch :  1700\n",
      "Epoch :  1800\n",
      "Epoch :  1900\n"
     ]
    },
    {
     "data": {
      "image/png": "[encoded data removed]",
      "text/plain": [
       "<Figure size 640x480 with 1 Axes>"
      ]
     },
     "metadata": {},
     "output_type": "display_data"
    }
   ],
   "source": [
    "weights, bias = gradient_descent(Xs, Y, epochs=2000)"
   ]
  },
  {
   "cell_type": "code",
   "execution_count": null,
   "metadata": {},
   "outputs": [],
   "source": []
  },
  {
   "cell_type": "markdown",
   "metadata": {},
   "source": [
    "### Results"
   ]
  },
  {
   "cell_type": "code",
   "execution_count": 160,
   "metadata": {},
   "outputs": [
    {
     "data": {
      "text/plain": [
       "MedInc        0.544029\n",
       "HouseAge      0.002087\n",
       "AveRooms      0.225228\n",
       "AveBedrms    -0.292762\n",
       "Population   -0.127454\n",
       "AveOccup     -0.141852\n",
       "Latitude      0.004662\n",
       "Longitude     0.077728\n",
       "dtype: float64"
      ]
     },
     "metadata": {},
     "output_type": "display_data"
    },
    {
     "data": {
      "text/plain": [
       "MedHouseVal    1.788889\n",
       "dtype: float64"
      ]
     },
     "metadata": {},
     "output_type": "display_data"
    }
   ],
   "source": [
    "w = pd.Series(weights, index = dataset.feature_names)\n",
    "b = pd.Series(bias, index=dataset.target_names)\n",
    "display(w)\n",
    "display(b)"
   ]
  },
  {
   "cell_type": "code",
   "execution_count": 128,
   "metadata": {},
   "outputs": [],
   "source": [
    "y_pred = predict(weights, bias, Xs, len(Xs))\n"
   ]
  },
  {
   "cell_type": "code",
   "execution_count": 161,
   "metadata": {},
   "outputs": [
    {
     "data": {
      "text/html": [
       "<div>\n",
       "<style scoped>\n",
       "    .dataframe tbody tr th:only-of-type {\n",
       "        vertical-align: middle;\n",
       "    }\n",
       "\n",
       "    .dataframe tbody tr th {\n",
       "        vertical-align: top;\n",
       "    }\n",
       "\n",
       "    .dataframe thead th {\n",
       "        text-align: right;\n",
       "    }\n",
       "</style>\n",
       "<table border=\"1\" class=\"dataframe\">\n",
       "  <thead>\n",
       "    <tr style=\"text-align: right;\">\n",
       "      <th></th>\n",
       "      <th>Actual</th>\n",
       "      <th>Predicted</th>\n",
       "    </tr>\n",
       "  </thead>\n",
       "  <tbody>\n",
       "    <tr>\n",
       "      <th>0</th>\n",
       "      <td>4.526</td>\n",
       "      <td>2.4</td>\n",
       "    </tr>\n",
       "    <tr>\n",
       "      <th>1</th>\n",
       "      <td>3.585</td>\n",
       "      <td>3.5</td>\n",
       "    </tr>\n",
       "    <tr>\n",
       "      <th>2</th>\n",
       "      <td>3.521</td>\n",
       "      <td>2.3</td>\n",
       "    </tr>\n",
       "    <tr>\n",
       "      <th>3</th>\n",
       "      <td>3.413</td>\n",
       "      <td>1.8</td>\n",
       "    </tr>\n",
       "    <tr>\n",
       "      <th>4</th>\n",
       "      <td>3.422</td>\n",
       "      <td>1.0</td>\n",
       "    </tr>\n",
       "    <tr>\n",
       "      <th>...</th>\n",
       "      <td>...</td>\n",
       "      <td>...</td>\n",
       "    </tr>\n",
       "    <tr>\n",
       "      <th>20635</th>\n",
       "      <td>0.781</td>\n",
       "      <td>-0.1</td>\n",
       "    </tr>\n",
       "    <tr>\n",
       "      <th>20636</th>\n",
       "      <td>0.771</td>\n",
       "      <td>-0.4</td>\n",
       "    </tr>\n",
       "    <tr>\n",
       "      <th>20637</th>\n",
       "      <td>0.923</td>\n",
       "      <td>-0.2</td>\n",
       "    </tr>\n",
       "    <tr>\n",
       "      <th>20638</th>\n",
       "      <td>0.847</td>\n",
       "      <td>-0.4</td>\n",
       "    </tr>\n",
       "    <tr>\n",
       "      <th>20639</th>\n",
       "      <td>0.894</td>\n",
       "      <td>0.4</td>\n",
       "    </tr>\n",
       "  </tbody>\n",
       "</table>\n",
       "<p>20640 rows × 2 columns</p>\n",
       "</div>"
      ],
      "text/plain": [
       "       Actual  Predicted\n",
       "0       4.526        2.4\n",
       "1       3.585        3.5\n",
       "2       3.521        2.3\n",
       "3       3.413        1.8\n",
       "4       3.422        1.0\n",
       "...       ...        ...\n",
       "20635   0.781       -0.1\n",
       "20636   0.771       -0.4\n",
       "20637   0.923       -0.2\n",
       "20638   0.847       -0.4\n",
       "20639   0.894        0.4\n",
       "\n",
       "[20640 rows x 2 columns]"
      ]
     },
     "execution_count": 161,
     "metadata": {},
     "output_type": "execute_result"
    }
   ],
   "source": [
    "predicted = pd.DataFrame()\n",
    "predicted[\"Actual\"] = Y\n",
    "predicted[\"Predicted\"] = np.round(y_pred,1)\n",
    "predicted\n"
   ]
  },
  {
   "cell_type": "code",
   "execution_count": 162,
   "metadata": {},
   "outputs": [
    {
     "data": {
      "text/plain": [
       "2.205241447151602"
      ]
     },
     "execution_count": 162,
     "metadata": {},
     "output_type": "execute_result"
    }
   ],
   "source": [
    "#define a mse to calculate the error\n",
    "def mean_squared_error(y_true, y_pred):\n",
    "    return np.mean((y_true - y_pred) ** 2)\n",
    "\n",
    "mean_squared_error(Y, y_pred)"
   ]
  },
  {
   "cell_type": "code",
   "execution_count": 163,
   "metadata": {},
   "outputs": [
    {
     "data": {
      "image/png": "[encoded data removed]",
      "text/plain": [
       "<Figure size 640x480 with 1 Axes>"
      ]
     },
     "metadata": {},
     "output_type": "display_data"
    }
   ],
   "source": [
    "plt.plot(y_pred, Y, marker='*', ls='None')\n",
    "plt.xlabel(\"predicted\")\n",
    "plt.ylabel(\"actual\")\n",
    "plt.xlim(0, 10)\n",
    "plt.ylim(0, 5)\n",
    "plt.show()\n",
    "\n"
   ]
  }
 ],
 "metadata": {
  "kernelspec": {
   "display_name": "Python 3.10.4 ('ml')",
   "language": "python",
   "name": "python3"
  },
  "language_info": {
   "codemirror_mode": {
    "name": "ipython",
    "version": 3
   },
   "file_extension": ".py",
   "mimetype": "text/x-python",
   "name": "python",
   "nbconvert_exporter": "python",
   "pygments_lexer": "ipython3",
   "version": "3.10.4"
  },
  "orig_nbformat": 4,
  "vscode": {
   "interpreter": {
    "hash": "31d7989649452b8ff5b252a3e34caf45e4ffd8a5787fe28fc2ce0245f11b7782"
   }
  }
 },
 "nbformat": 4,
 "nbformat_minor": 2
}
